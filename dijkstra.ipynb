{
 "cells": [
  {
   "cell_type": "code",
   "execution_count": 11,
   "metadata": {},
   "outputs": [],
   "source": [
    "def dijkstra(G,a):\n",
    "    visited=set([a])\n",
    "    d={}\n",
    "    for i in G.nodes:\n",
    "        d[i]=float('inf')\n",
    "    d[a]=0\n",
    "    #updating neighbors of a\n",
    "    for i in list(G.neighbors(a)):\n",
    "            d[i]=1\n",
    "                \n",
    "    while visited == G.nodes:\n",
    "        v = list(set(G.neighbors(visited[-1])).difference(visited))[0]\n",
    "        visited.add(v)\n",
    "        \n",
    "        for i in list(G.neighbors(v)):\n",
    "            if d[v]+1 <d[i]:\n",
    "                d[i] = d[v]+1\n",
    "    return d"
   ]
  }
 ],
 "metadata": {
  "kernelspec": {
   "display_name": "Python 3",
   "language": "python",
   "name": "python3"
  },
  "language_info": {
   "codemirror_mode": {
    "name": "ipython",
    "version": 3
   },
   "file_extension": ".py",
   "mimetype": "text/x-python",
   "name": "python",
   "nbconvert_exporter": "python",
   "pygments_lexer": "ipython3",
   "version": "3.7.0"
  }
 },
 "nbformat": 4,
 "nbformat_minor": 2
}
